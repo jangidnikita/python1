{
 "cells": [
  {
   "cell_type": "code",
   "execution_count": 1,
   "id": "0f3f28e7-6d89-4503-9c3d-227bfce210e2",
   "metadata": {},
   "outputs": [
    {
     "name": "stdout",
     "output_type": "stream",
     "text": [
      "duplicate words list: ['mango', 'apple']\n",
      "unique words list: ['orange', 'grapes']\n"
     ]
    }
   ],
   "source": [
    "#create a program to identify all the unique words or elements from list and insert all the dupliacte element in other list.\n",
    "mylist=[\"mango\",\"apple\",\"orange\",\"grapes\",\"apple\",\"mango\"]\n",
    "unique_words=[]\n",
    "duplicate_words=[]\n",
    "for word in mylist:\n",
    "    if mylist.count(word)>1:\n",
    "        if word not in duplicate_words:\n",
    "            duplicate_words.append(word)\n",
    "    else:\n",
    "        if word not in unique_words:\n",
    "            unique_words.append(word)\n",
    "print(\"duplicate words list:\",duplicate_words)\n",
    "print(\"unique words list:\",unique_words)"
   ]
  },
  {
   "cell_type": "code",
   "execution_count": 3,
   "id": "d14b3f19-730c-412c-9c0f-ee3c795b5057",
   "metadata": {},
   "outputs": [
    {
     "name": "stdout",
     "output_type": "stream",
     "text": [
      "0\n",
      "1\n",
      "2\n",
      "3\n",
      "4\n",
      "5\n",
      "6\n"
     ]
    }
   ],
   "source": [
    "# print position of elelmet using while loop.\n",
    "mylist=[10,20,30,40,50,60,70,]\n",
    "index=0\n",
    "while(index<len(mylist)):\n",
    "    print(index)\n",
    "    index=index+1"
   ]
  },
  {
   "cell_type": "code",
   "execution_count": 4,
   "id": "b27a4743-c6bd-4b10-9aa0-5491ce2135a0",
   "metadata": {},
   "outputs": [
    {
     "name": "stdout",
     "output_type": "stream",
     "text": [
      "0 10\n",
      "1 20\n",
      "2 30\n",
      "3 40\n",
      "4 50\n"
     ]
    }
   ],
   "source": [
    "# print element and position of element of list using whilr loop.\n",
    "mylist=[10,20,30,40,50]\n",
    "index=0\n",
    "while(index<len(mylist)):\n",
    "    print(index,mylist[index])\n",
    "    index=index+1"
   ]
  },
  {
   "cell_type": "code",
   "execution_count": 5,
   "id": "0c914e2a-f45f-4369-95ce-dc6ee6535966",
   "metadata": {},
   "outputs": [
    {
     "name": "stdout",
     "output_type": "stream",
     "text": [
      "0 10\n",
      "1 20\n",
      "6 56\n"
     ]
    }
   ],
   "source": [
    "# print even element of list using while loop.\n",
    "mylist=[10,20,11,25,33,45,56]\n",
    "index=0\n",
    "while(index<len(mylist)):\n",
    "    if(mylist[index]%2==0):\n",
    "        print(index,mylist[index])\n",
    "    index=index+1"
   ]
  },
  {
   "cell_type": "code",
   "execution_count": 7,
   "id": "e66f3444-ddb5-4ec0-a9b7-755ccaa65b18",
   "metadata": {},
   "outputs": [
    {
     "name": "stdout",
     "output_type": "stream",
     "text": [
      "0 10 15\n",
      "1 20 25\n",
      "2 30 35\n",
      "3 40 45\n",
      "4 56 61\n",
      "6 96 101\n",
      "7 78 83\n"
     ]
    }
   ],
   "source": [
    "#add 5 in each even element of a list.\n",
    "mylist=[10,20,30,40,56,85,96,78]\n",
    "index=0\n",
    "while(index<len(mylist)):\n",
    "    if(mylist[index]%2==0):\n",
    "        print(index,mylist[index],mylist[index]+5)\n",
    "        mylist[index]=mylist[index]+5\n",
    "    index=index+1"
   ]
  },
  {
   "cell_type": "code",
   "execution_count": 9,
   "id": "a530218a-1a2d-4f67-8645-c03a1d3365c3",
   "metadata": {},
   "outputs": [
    {
     "name": "stdout",
     "output_type": "stream",
     "text": [
      "hey ey\n",
      "hello ello\n",
      "pooja ooja\n",
      "['ey', 'ello', 'ooja']\n"
     ]
    }
   ],
   "source": [
    "#program to print only words form a list without first character of word.\n",
    "mylist=[10,20,30,\"hey\",50,\"hello\",25,\"pooja\"]\n",
    "strlist=[]\n",
    "for data in mylist:\n",
    "    if(type(data) is str):\n",
    "        print(data,data[1:])\n",
    "        strlist.append(data[1:])\n",
    "print(strlist)"
   ]
  },
  {
   "cell_type": "code",
   "execution_count": 10,
   "id": "2386fb90-c7e9-44f9-b48d-ff041102557c",
   "metadata": {},
   "outputs": [
    {
     "name": "stdout",
     "output_type": "stream",
     "text": [
      "words with more than 2 vowels: ['apple', 'banana', 'grapes', 'khushi', 'pooja']\n"
     ]
    }
   ],
   "source": [
    "# create a program to get string element which have more than 2 vowels and append it into the vowellist.\n",
    "mylist=[\"apple\",\"banana\",\"grapes\",\"khushi\",\"pooja\"]\n",
    "vowellist=[]\n",
    "vowels=\"aeiou\"\n",
    "for word in mylist:\n",
    "    count=0\n",
    "    for letter in vowels:\n",
    "        if letter.lower() in vowels:\n",
    "            count+=1\n",
    "    if count>2:\n",
    "        vowellist.append(word)\n",
    "print(\"words with more than 2 vowels:\",vowellist)"
   ]
  }
 ],
 "metadata": {
  "kernelspec": {
   "display_name": "Python 3 (ipykernel)",
   "language": "python",
   "name": "python3"
  },
  "language_info": {
   "codemirror_mode": {
    "name": "ipython",
    "version": 3
   },
   "file_extension": ".py",
   "mimetype": "text/x-python",
   "name": "python",
   "nbconvert_exporter": "python",
   "pygments_lexer": "ipython3",
   "version": "3.10.11"
  }
 },
 "nbformat": 4,
 "nbformat_minor": 5
}
